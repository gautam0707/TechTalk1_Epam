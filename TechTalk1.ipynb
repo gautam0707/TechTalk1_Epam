{
 "cells": [
  {
   "cell_type": "markdown",
   "metadata": {},
   "source": [
    "# Introduction to Machine Learning - Linear Regression"
   ]
  },
  {
   "cell_type": "markdown",
   "metadata": {},
   "source": [
    "### Import packages"
   ]
  },
  {
   "cell_type": "code",
   "execution_count": 4,
   "metadata": {
    "collapsed": true
   },
   "outputs": [],
   "source": [
    "# Import all necessary packages/libraries\n",
    "import numpy as np              # numerical python for math operations\n",
    "import matplotlib.pyplot as plt # for visualializations"
   ]
  },
  {
   "cell_type": "markdown",
   "metadata": {},
   "source": [
    "### Generate sample data and plot"
   ]
  },
  {
   "cell_type": "code",
   "execution_count": 5,
   "metadata": {},
   "outputs": [
    {
     "data": {
      "image/png": "[encoded data removed]",
      "text/plain": [
       "<matplotlib.figure.Figure at 0x631c390>"
      ]
     },
     "metadata": {},
     "output_type": "display_data"
    }
   ],
   "source": [
    "# Generate sample data with some noise and plot it\n",
    "sample_x = np.random.normal(1500,30,200)\n",
    "noise = np.random.normal(0,10,(200,))\n",
    "sample_y = 1*sample_x + 10000 + noise\n",
    "plt.scatter(sample_x, sample_y)\n",
    "plt.show()"
   ]
  },
  {
   "cell_type": "markdown",
   "metadata": {},
   "source": [
    "### Cost Function"
   ]
  },
  {
   "cell_type": "code",
   "execution_count": 6,
   "metadata": {
    "collapsed": true
   },
   "outputs": [],
   "source": [
    "def cost(m,b):\n",
    "    total_error = sum((sample_y[i] - (m*sample_x[i]+b))**2 for i in range(len(sample_x)))\n",
    "    return total_error/len(sample_x)"
   ]
  },
  {
   "cell_type": "markdown",
   "metadata": {},
   "source": [
    "### Gradient Descent(No optimization)"
   ]
  },
  {
   "cell_type": "code",
   "execution_count": 54,
   "metadata": {
    "collapsed": true
   },
   "outputs": [],
   "source": [
    "# Single Gradient Descent step\n",
    "def gradient_descent_step(m_current, b_current, learning_rate):    \n",
    "    l =  len(sample_x)    \n",
    "    m_gradient = sum(sample_x[i] * (sample_y[i]-(m_current*sample_x[i]+b_current)) for i in range(l))*(-2/l)\n",
    "    b_gradient = sum((sample_y[i]-(m_current*sample_x[i]+b_current)) for i in range(l))*(-2/l)    \n",
    "    return m_current - learning_rate*m_gradient, b_current - learning_rate*b_gradient"
   ]
  },
  {
   "cell_type": "markdown",
   "metadata": {},
   "source": [
    "### Linear Regression"
   ]
  },
  {
   "cell_type": "code",
   "execution_count": 61,
   "metadata": {
    "collapsed": true
   },
   "outputs": [],
   "source": [
    "# run gradient descent several times to reach global minima\n",
    "def linear_regression_runner():\n",
    "    m, b = 0, 0 # start with some random line at the end of this method, we should get a best fit\n",
    "    num_gradient_steps = 100\n",
    "    learning_rate = 0.05\n",
    "    while num_gradient_steps > 0:\n",
    "        num_gradient_steps -= 1\n",
    "        m, b = gradient_descent_step(m,b,learning_rate)        \n",
    "    print(m,b)\n",
    "    print(cost(m,b))        "
   ]
  },
  {
   "cell_type": "code",
   "execution_count": 64,
   "metadata": {},
   "outputs": [
    {
     "name": "stdout",
     "output_type": "stream",
     "text": [
      "nan nan\n",
      "nan\n"
     ]
    }
   ],
   "source": [
    "linear_regression_runner()"
   ]
  },
  {
   "cell_type": "code",
   "execution_count": null,
   "metadata": {
    "collapsed": true
   },
   "outputs": [],
   "source": []
  }
 ],
 "metadata": {
  "kernelspec": {
   "display_name": "Python 3",
   "language": "python",
   "name": "python3"
  },
  "language_info": {
   "codemirror_mode": {
    "name": "ipython",
    "version": 3
   },
   "file_extension": ".py",
   "mimetype": "text/x-python",
   "name": "python",
   "nbconvert_exporter": "python",
   "pygments_lexer": "ipython3",
   "version": "3.6.1"
  }
 },
 "nbformat": 4,
 "nbformat_minor": 2
}
